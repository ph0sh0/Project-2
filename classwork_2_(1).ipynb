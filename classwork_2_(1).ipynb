{
  "nbformat": 4,
  "nbformat_minor": 0,
  "metadata": {
    "colab": {
      "name": "classwork_2 (1).ipynb",
      "provenance": []
    },
    "kernelspec": {
      "name": "python3",
      "display_name": "Python 3"
    }
  },
  "cells": [
    {
      "cell_type": "code",
      "metadata": {
        "id": "q1yX3waIr1Zz"
      },
      "source": [
        "# Import the python package for handling data frames     Grade: 0.5"
      ],
      "execution_count": null,
      "outputs": []
    },
    {
      "cell_type": "code",
      "metadata": {
        "id": "L1yafJ3tsCBA"
      },
      "source": [
        "# Read the CSV file into a data frame variable df_1 and display the first rows.  Grade: 1"
      ],
      "execution_count": null,
      "outputs": []
    },
    {
      "cell_type": "code",
      "metadata": {
        "id": "TG3jWHTMsKND"
      },
      "source": [
        "# What are the data types of the variables? use the method info and the attribute dtypes  Grade: 1"
      ],
      "execution_count": null,
      "outputs": []
    },
    {
      "cell_type": "code",
      "metadata": {
        "id": "hmzhFrnwset-"
      },
      "source": [
        "# Use a method that gives you the count, mean, std etc of every variable. Grade: 0.5"
      ],
      "execution_count": null,
      "outputs": []
    },
    {
      "cell_type": "code",
      "metadata": {
        "id": "D2Wv1BJpsnnO"
      },
      "source": [
        "# X6 is a categorical variable. What is the mean value of Y for each category of X6?  Grade: 1.5"
      ],
      "execution_count": null,
      "outputs": []
    },
    {
      "cell_type": "code",
      "metadata": {
        "id": "Yg5v9i4ns0sL"
      },
      "source": [
        "# How many Null values does each column has?  Grade: 0.5"
      ],
      "execution_count": null,
      "outputs": []
    },
    {
      "cell_type": "code",
      "metadata": {
        "id": "YzR23O7ds8In"
      },
      "source": [
        "# Replace the null values of df_1 with the mean of the columns and assign to df_3. Show that df_3 has no null values? Grade: 1.5"
      ],
      "execution_count": null,
      "outputs": []
    },
    {
      "cell_type": "code",
      "metadata": {
        "id": "75MPQLe9tEVb"
      },
      "source": [
        "# Change the categorical variables of df_1 into dummy variables and assign to df_2. Display the first rows of df_2  Grade: 1"
      ],
      "execution_count": null,
      "outputs": []
    },
    {
      "cell_type": "code",
      "metadata": {
        "id": "X-ux7GIPtN0g"
      },
      "source": [
        "# Consider X1 as a categorical variable. Plot the relationship of X1 and Y. Hint: use Boxplot.   Grade: 1.5"
      ],
      "execution_count": null,
      "outputs": []
    },
    {
      "cell_type": "code",
      "metadata": {
        "id": "x2KxwkfftRc1"
      },
      "source": [
        "# Plot the relatioship between X4 and Y. Hint: use scatter plot.   Grade: 1"
      ],
      "execution_count": null,
      "outputs": []
    }
  ]
}